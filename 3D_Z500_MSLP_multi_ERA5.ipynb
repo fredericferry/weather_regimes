{
 "cells": [
  {
   "cell_type": "markdown",
   "metadata": {},
   "source": [
    "# Z500, MSLP vue 3D nord atlantique - animation temporelle\n",
    "\n",
    "**Auteur : FERRY Frédéric (DESR/ENM/C3M) - septembre 2022**"
   ]
  },
  {
   "cell_type": "code",
   "execution_count": null,
   "metadata": {},
   "outputs": [],
   "source": [
    "%matplotlib inline\n",
    "\n",
    "import os\n",
    "\n",
    "from tqdm import tqdm\n",
    "\n",
    "import xarray as xr\n",
    "import numpy as np\n",
    "\n",
    "import itertools\n",
    "import datetime as dt\n",
    "\n",
    "import cartopy.crs as ccrs\n",
    "from cartopy.mpl.geoaxes import GeoAxes\n",
    "from cartopy.mpl.ticker import LongitudeFormatter, LatitudeFormatter\n",
    "import cartopy.feature as cfeature\n",
    "from cartopy import config\n",
    "from cartopy.mpl.patch import geos_to_path\n",
    "\n",
    "import matplotlib as mpl\n",
    "import matplotlib.pyplot as plt\n",
    "import matplotlib.path as mpath\n",
    "from mpl_toolkits.axes_grid1 import AxesGrid\n",
    "from matplotlib.pyplot import figure\n",
    "from matplotlib.collections import LineCollection\n",
    "from mpl_toolkits.mplot3d import Axes3D\n",
    "from matplotlib import cm\n",
    "\n",
    "import IPython.display as IPdisplay, matplotlib.font_manager as fm\n",
    "from PIL import Image\n",
    "import glob\n",
    "\n",
    "import warnings\n",
    "warnings.filterwarnings('ignore')"
   ]
  },
  {
   "cell_type": "raw",
   "metadata": {},
   "source": [
    "Dossiers des données et des figures/animations."
   ]
  },
  {
   "cell_type": "code",
   "execution_count": null,
   "metadata": {},
   "outputs": [],
   "source": [
    "dir_data='./data/'\n",
    "dir_figs='./figs/'\n",
    "dir_anim='./anim/'\n",
    "if not os.path.exists(dir_figs):\n",
    "    os.makedirs(dir_figs)\n",
    "if not os.path.exists(dir_anim):\n",
    "    os.makedirs(dir_anim)"
   ]
  },
  {
   "cell_type": "raw",
   "metadata": {},
   "source": [
    "Limites du domaine, années"
   ]
  },
  {
   "cell_type": "code",
   "execution_count": null,
   "metadata": {},
   "outputs": [],
   "source": [
    "latS=20\n",
    "latN=80\n",
    "lonW=-100\n",
    "lonE=40\n",
    "\n",
    "year1='1980'\n",
    "year2='2020'"
   ]
  },
  {
   "cell_type": "raw",
   "metadata": {},
   "source": [
    "Villes"
   ]
  },
  {
   "cell_type": "code",
   "execution_count": null,
   "metadata": {},
   "outputs": [],
   "source": [
    "city1=\"Stykkisholmur\"\n",
    "city2=\"Lisbon\"\n",
    "\n",
    "city1_xy=[-22.5, 65.7]\n",
    "city2_xy=[-9.1, 38.7]"
   ]
  },
  {
   "cell_type": "markdown",
   "metadata": {},
   "source": [
    "# Ouverture et traitement des données"
   ]
  },
  {
   "cell_type": "raw",
   "metadata": {},
   "source": [
    "Ouverture des données netcdf pour la date choisie et pour les latitudes 0-90N"
   ]
  },
  {
   "cell_type": "code",
   "execution_count": null,
   "metadata": {
    "scrolled": false
   },
   "outputs": [],
   "source": [
    "fz    = xr.open_dataset(dir_data+'era5_z500_natl_daily_1950-2020_1deg5.nc').sel(lat=slice(latS,latN)).sel(time=slice(year1,year2))\n",
    "fp    = xr.open_dataset(dir_data+'era5_msl_natl_daily_1950-2020_1deg5.nc').sel(lat=slice(latS,latN)).sel(time=slice(year1,year2))\n",
    "\n",
    "time0  = fp.time.values\n",
    "lat = fp.lat.values\n",
    "lon = fp.lon.values\n",
    "\n",
    "z = fz['z']/9.81\n",
    "msl = fp['msl']/100\n",
    "\n",
    "print(z)"
   ]
  },
  {
   "cell_type": "raw",
   "metadata": {},
   "source": [
    "Valeurs de Z et MSLP aux villes choisies"
   ]
  },
  {
   "cell_type": "code",
   "execution_count": null,
   "metadata": {
    "scrolled": false
   },
   "outputs": [],
   "source": [
    "z_city1=z.sel(lat=city1_xy[1], method=\"nearest\").sel(lon=city1_xy[0], method=\"nearest\")\n",
    "z_city1_anom=z_city1.groupby('time.dayofyear') - z_city1.groupby('time.dayofyear').mean('time')\n",
    "z_city1_anom_std=z_city1_anom/z_city1.groupby('time.dayofyear').std('time')\n",
    "\n",
    "z_city2=z.sel(lat=city2_xy[1], method=\"nearest\").sel(lon=city2_xy[0], method=\"nearest\")\n",
    "z_city2_anom=z_city2.groupby('time.dayofyear') - z_city2.groupby('time.dayofyear').mean('time')\n",
    "z_city2_anom_std=z_city2_anom/z_city2.groupby('time.dayofyear').std('time')\n",
    "\n",
    "print(z_city1)\n",
    "print(z_city1_anom)\n",
    "print(z_city1_anom_std)"
   ]
  },
  {
   "cell_type": "raw",
   "metadata": {},
   "source": [
    "Entrer les dates de début et de fin de l'animation"
   ]
  },
  {
   "cell_type": "code",
   "execution_count": null,
   "metadata": {},
   "outputs": [],
   "source": [
    "date1 = input(\"Date 1 : \")\n",
    "date2 = input(\"Date 2 : \")"
   ]
  },
  {
   "cell_type": "raw",
   "metadata": {},
   "source": [
    "Ouverture des données netcdf pour les dates choisies"
   ]
  },
  {
   "cell_type": "code",
   "execution_count": null,
   "metadata": {
    "scrolled": false
   },
   "outputs": [],
   "source": [
    "zz = z.sel(time=slice(date1,date2))\n",
    "mslp = msl.sel(time=slice(date1,date2))\n",
    "zz_city1_anom_std = z_city1_anom_std.sel(time=slice(date1,date2))\n",
    "zz_city2_anom_std = z_city2_anom_std.sel(time=slice(date1,date2))\n",
    "\n",
    "print(zz_city1_anom_std.shape)\n",
    "print(zz.shape)\n",
    "\n",
    "time  = zz.time.values\n",
    "# Manage dates\n",
    "time_str=[x for x in range(len(time))]\n",
    "date_str=[x for x in range(len(time))]\n",
    "for i in range(len(time)):\n",
    "\ttime_str[i] = str(time[i])\n",
    "\tdate_str[i] = time_str[i][0:10]"
   ]
  },
  {
   "cell_type": "markdown",
   "metadata": {},
   "source": [
    "# Graphiques"
   ]
  },
  {
   "cell_type": "raw",
   "metadata": {},
   "source": [
    "Fonction animation"
   ]
  },
  {
   "cell_type": "code",
   "execution_count": null,
   "metadata": {
    "scrolled": true
   },
   "outputs": [],
   "source": [
    "def make_animation():\n",
    "    nbimages=len(time)\n",
    "    # create a tuple of display durations, one for each frame\n",
    "    first_last = 1000 #show the first and last frames for 100 ms\n",
    "    standard_duration = 1000 #show all other frames for 5 ms\n",
    "    durations = tuple([first_last] + [standard_duration] * (nbimages - 2) + [first_last])\n",
    "    # load all the static images into a list\n",
    "    images = [Image.open(image) for image in sorted(glob.glob('{}/*.png'.format('./anim/')))]\n",
    "    # save as an animated gif\n",
    "    gif = images[0]\n",
    "    gif.info['duration'] = durations #ms per frame\n",
    "    gif.info['loop'] = 0 #how many times to loop (0=infinite)\n",
    "    gif.save(fp=gif_filepath, format='gif', save_all=True, append_images=images[1:])\n",
    "    # verify that the number of frames in the gif equals the number of image files and durations\n",
    "    Image.open(gif_filepath).n_frames == len(images) == len(durations)\n",
    "    # clean png\n",
    "    os.chdir(\"./anim/\")\n",
    "    for f in glob.glob(\"*.png\"):\n",
    "        os.remove(f)\n",
    "    os.chdir(\"../\")\n",
    "    return Image"
   ]
  },
  {
   "cell_type": "raw",
   "metadata": {},
   "source": [
    "Séries temporelles"
   ]
  },
  {
   "cell_type": "code",
   "execution_count": null,
   "metadata": {
    "scrolled": false
   },
   "outputs": [],
   "source": [
    "cor=np.corrcoef(zz_city1_anom_std[:,0], zz_city2_anom_std[:,0])\n",
    "mean1=np.array(zz_city1_anom_std[:,0].mean())\n",
    "mean2=np.array(zz_city2_anom_std[:,0].mean())\n",
    "print(cor)\n",
    "print(mean1)\n",
    "print(mean2)"
   ]
  },
  {
   "cell_type": "raw",
   "metadata": {},
   "source": [
    "Séries temporelles"
   ]
  },
  {
   "cell_type": "code",
   "execution_count": null,
   "metadata": {
    "scrolled": false
   },
   "outputs": [],
   "source": [
    "for i in tqdm(range(len(time))):\n",
    "    \n",
    "    #print(date_str[i])\n",
    "    \n",
    "    fig=plt.figure(figsize=(15, 5))\n",
    "    fig.suptitle('Z500 Normalized anomaly - '+date1+'-'+date2, fontsize=16)\n",
    "\n",
    "    ax = plt.subplot(111)\n",
    "    ax.set_title(date_str[i], loc='center', fontsize=14)\n",
    "    ax.plot(time,zz_city1_anom_std[:,0], color='blue')\n",
    "    ax.plot(time,zz_city2_anom_std[:,0], color='red')\n",
    "\n",
    "    ax.scatter(time[i],zz_city1_anom_std[i,0], color='blue', linewidth=3, linestyle='-', label=city1)\n",
    "    ax.scatter(time[i],zz_city2_anom_std[i,0], color='red', linewidth=3, linestyle='-', label=city2)\n",
    "\n",
    "    plt.ylim(-4, 4)\n",
    "    plt.axhline(0, linestyle='-', color='black')\n",
    "    plt.axhline(mean1, linestyle='-', color='blue')\n",
    "    plt.axhline(mean2, linestyle='-', color='red')\n",
    "    plt.axvline(time[i], linestyle='-', color='black')\n",
    "    plt.axvline(dt.datetime(int(date1[0:4]), 12, 1), linestyle='--', color='grey')\n",
    "    plt.axvline(dt.datetime(int(date2[0:4]), 1, 1), linestyle='--', color='grey')\n",
    "    plt.axvline(dt.datetime(int(date2[0:4]), 2, 1), linestyle='--', color='grey')\n",
    "    plt.axvline(dt.datetime(int(date2[0:4]), 3, 1), linestyle='--', color='grey')\n",
    "    plt.axvline(dt.datetime(int(date2[0:4]), 3, 31), linestyle='--', color='grey')\n",
    "    \n",
    "    plt.ylabel('Normalized anomaly')\n",
    "    plt.xlabel('Time')\n",
    "    #ax.set_xticks([])\n",
    "    \n",
    "    plt.legend(loc='upper right')\n",
    "    # place a text box in upper left in axes coords\n",
    "    props = dict(boxstyle='round', facecolor='wheat', alpha=0.5)\n",
    "    ax.text(0.05, 0.95, 'Correlation : '+str(round(cor[0,1],2)), transform=ax.transAxes,\n",
    "            fontsize=14, verticalalignment='top', bbox=props)\n",
    "\n",
    "    figname='./anim/Z500_NAO_evol'+date_str[i]\n",
    "    plt.savefig(figname+'.png',bbox_inches='tight')\n",
    "    \n",
    "    plt.close()"
   ]
  },
  {
   "cell_type": "raw",
   "metadata": {},
   "source": [
    "Animation"
   ]
  },
  {
   "cell_type": "code",
   "execution_count": null,
   "metadata": {},
   "outputs": [],
   "source": [
    "gif_filepath = './anim/Z500_NAO_evol'+date1+'-'+date2+'.gif'\n",
    "make_animation()\n",
    "IPdisplay.Image(url=gif_filepath)"
   ]
  },
  {
   "cell_type": "raw",
   "metadata": {},
   "source": [
    "Cartes 3D"
   ]
  },
  {
   "cell_type": "code",
   "execution_count": null,
   "metadata": {
    "scrolled": false
   },
   "outputs": [],
   "source": [
    "levels_z = np.arange(4400,6200,50)\n",
    "levels_msl = np.arange(920,1065,5)\n",
    "angle = 310 #270 310\n",
    "\n",
    "for i in tqdm(range(len(time))):\n",
    "    \n",
    "    #print(i)\n",
    "    \n",
    "    figure(figsize=(15, 15))\n",
    "    ax = plt.axes(projection=\"3d\", xlim=[lonW, lonE], ylim=[latS, latN], zlim=[0, 350])\n",
    "    ax.set_title(\"Mean Sea Level Pressure - Geopotential height at 500 hPa : \"+date_str[i],\n",
    "                 y=1.0, pad=-20, fontsize=14)\n",
    "    #plt.title(\"MSLP and Z500 : \"+date_str[i])\n",
    "    \n",
    "    # Axes, grid\n",
    "    plt.box(False)\n",
    "    ax.set(frame_on=False)  # New\n",
    "    ax.set_zticklabels([])\n",
    "    ax.set_zticks([])\n",
    "    ax.grid(False)\n",
    "    ax.xaxis.pane.fill = False\n",
    "    ax.yaxis.pane.fill = False\n",
    "    ax.zaxis.pane.fill = False\n",
    "    ax.xaxis.pane.set_edgecolor('w')\n",
    "    ax.yaxis.pane.set_edgecolor('w')\n",
    "    ax.zaxis.pane.set_edgecolor('w')\n",
    "\n",
    "    # Background Map\n",
    "    target_projection = ccrs.PlateCarree()\n",
    "    feature = cfeature.NaturalEarthFeature(\"physical\", \"coastline\", \"10m\")\n",
    "    geoms = feature.geometries()\n",
    "    geoms = [target_projection.project_geometry(geom, feature.crs) for geom in geoms]\n",
    "    paths = list(itertools.chain.from_iterable(geos_to_path(geom) for geom in geoms))\n",
    "    segments = []\n",
    "    for path in paths:\n",
    "        vertices = [vertex for vertex, _ in path.iter_segments()]\n",
    "        vertices = np.asarray(vertices)\n",
    "        segments.append(vertices)\n",
    "    lc = LineCollection(segments, color=\"black\", zorder=0)\n",
    "    ax.add_collection3d(lc)\n",
    "    \n",
    "    # convert z to np array\n",
    "    gh = np.array(zz[i,:,:])\n",
    "    mslpp = np.array(mslp[i,:,:])\n",
    "    \n",
    "    # Create a second variable with edited Geopotential Height for better 3d representation\n",
    "    #gh_3d = gh\n",
    "    gh_3d = gh/1000\n",
    "    gh_3d = np.exp(gh_3d)\n",
    "\n",
    "    # Create meshgrid from lats, lons\n",
    "    x = lon\n",
    "    y = lat\n",
    "    x2 = np.append(0, x.flatten())\n",
    "    y2 = np.append(0, y.flatten())\n",
    "    x2, y2 = np.meshgrid(lon, lat)\n",
    "    \n",
    "    # Create np array from the gh_3d array\n",
    "    # flattened to one dimension and delete its first item (for better illustration)\n",
    "    z2 = np.append(0, gh_3d.flatten())\n",
    "    z2 = np.delete(z2, 0)\n",
    "    \n",
    "    # Plot trisurf data (3d plot of Geopotential Height reduced to the 3d variable)\n",
    "    surf = ax.plot_trisurf(x2.flatten(), y2.flatten(), z2, cmap='jet',\n",
    "                           linewidth=0.1, vmin=min(z2), vmax=max(z2), alpha=0.6, antialiased=True)\n",
    "    \n",
    "    # Create contour plots on level 0 of z axis for Z\n",
    "    #cf=ax.contourf(x2, y2, gh, levels_z, zdir=\"z\", offset=0, cmap=\"jet\", alpha=0.8, zorder=10, antialiased=False)\n",
    "    #ax.contour(x2, y2, gh, levels_z, zdir=\"z\", offset=0, colors=\"k\", linewidths=2, zorder=100)\n",
    "    cbar = plt.colorbar(mpl.cm.ScalarMappable(norm=mpl.colors.Normalize(vmin=np.min(z), vmax=np.max(z)),\n",
    "                                              cmap=\"jet\"), shrink=0.5, pad=0.01, orientation=\"vertical\")\n",
    "    cbar.set_label(label=\"mgp\", fontsize=10)\n",
    "    \n",
    "    # Create contour plots on level 0 of z axis for MSLP\n",
    "    cf=ax.contourf(x2, y2, mslpp, levels_msl, zdir=\"z\", offset=0, cmap=\"jet\",\n",
    "                   extent='both', alpha=0.6, zorder=10, antialiased=False)\n",
    "    ax.contour(x2, y2, mslpp, levels_msl, zdir=\"z\", offset=0, colors=\"k\", linewidths=2, zorder=100)\n",
    "    cbar2 = plt.colorbar(cf, shrink=0.5, pad=0.01, orientation=\"horizontal\")\n",
    "    cbar2.set_label(label=\"hPa\", fontsize=10)\n",
    "    \n",
    "    # Plot cities\n",
    "    ax.plot([-22.5,-22.5],[65.7,65.7],[0,max(z2)+20],\"--\",color=\"grey\", alpha=1, linewidth=2)\n",
    "    ax.text(s=\"Stykkisholmur\", x=-22.5, y=65.7, z=max(z2)+20, zorder=1000)\n",
    "    ax.plot([-9.1,-9.1],[38.7,38.7],[0,max(z2)+20],\"--\",color=\"grey\", alpha=1, linewidth=2)\n",
    "    ax.text(s=\"Lisbon\", x=-9.1, y=38.7, z=max(z2)+20, zorder=1000)\n",
    "    \n",
    "    # Set view angle\n",
    "    ax.view_init(25, angle)\n",
    "        \n",
    "    figname='./anim/Z500_MSLP_'+date_str[i]\n",
    "    plt.savefig(figname+'.png', transparent = False, bbox_inches = 'tight', pad_inches = 0)\n",
    "    \n",
    "    plt.close()"
   ]
  },
  {
   "cell_type": "raw",
   "metadata": {},
   "source": [
    "Animation"
   ]
  },
  {
   "cell_type": "code",
   "execution_count": null,
   "metadata": {},
   "outputs": [],
   "source": [
    "gif_filepath = './anim/Z500_MSLP_'+date1+'-'+date2+'.gif'\n",
    "make_animation()\n",
    "IPdisplay.Image(url=gif_filepath)"
   ]
  }
 ],
 "metadata": {
  "kernelspec": {
   "display_name": "Python 3",
   "language": "python",
   "name": "python3"
  },
  "language_info": {
   "codemirror_mode": {
    "name": "ipython",
    "version": 3
   },
   "file_extension": ".py",
   "mimetype": "text/x-python",
   "name": "python",
   "nbconvert_exporter": "python",
   "pygments_lexer": "ipython3",
   "version": "3.7.11"
  }
 },
 "nbformat": 4,
 "nbformat_minor": 1
}
